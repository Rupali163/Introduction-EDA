{
 "cells": [
  {
   "cell_type": "code",
   "execution_count": 184,
   "id": "83e9d59f",
   "metadata": {},
   "outputs": [],
   "source": [
    "import numpy as np\n",
    "import pandas as pd\n",
    "import matplotlib.pyplot as plt\n",
    "import seaborn as sns"
   ]
  },
  {
   "cell_type": "markdown",
   "id": "b131dedb",
   "metadata": {},
   "source": [
    "# Movies Data for analysis"
   ]
  },
  {
   "cell_type": "code",
   "execution_count": 77,
   "id": "93cb674f",
   "metadata": {},
   "outputs": [
    {
     "data": {
      "text/html": [
       "<div>\n",
       "<style scoped>\n",
       "    .dataframe tbody tr th:only-of-type {\n",
       "        vertical-align: middle;\n",
       "    }\n",
       "\n",
       "    .dataframe tbody tr th {\n",
       "        vertical-align: top;\n",
       "    }\n",
       "\n",
       "    .dataframe thead th {\n",
       "        text-align: right;\n",
       "    }\n",
       "</style>\n",
       "<table border=\"1\" class=\"dataframe\">\n",
       "  <thead>\n",
       "    <tr style=\"text-align: right;\">\n",
       "      <th></th>\n",
       "      <th>Unnamed: 0</th>\n",
       "      <th>Title</th>\n",
       "      <th>Movie Info</th>\n",
       "      <th>Distributor</th>\n",
       "      <th>Release Date</th>\n",
       "      <th>Domestic Sales (in $)</th>\n",
       "      <th>International Sales (in $)</th>\n",
       "      <th>World Sales (in $)</th>\n",
       "      <th>Genre</th>\n",
       "      <th>Movie Runtime</th>\n",
       "      <th>License</th>\n",
       "    </tr>\n",
       "  </thead>\n",
       "  <tbody>\n",
       "    <tr>\n",
       "      <th>0</th>\n",
       "      <td>0</td>\n",
       "      <td>Star Wars: Episode VII - The Force Awakens (2015)</td>\n",
       "      <td>As a new threat to the galaxy rises, Rey, a de...</td>\n",
       "      <td>Walt Disney Studios Motion Pictures</td>\n",
       "      <td>December 16, 2015</td>\n",
       "      <td>936662225</td>\n",
       "      <td>1132859475</td>\n",
       "      <td>2069521700</td>\n",
       "      <td>['Action', 'Adventure', 'Sci-Fi']</td>\n",
       "      <td>2 hr 18 min</td>\n",
       "      <td>PG-13</td>\n",
       "    </tr>\n",
       "    <tr>\n",
       "      <th>1</th>\n",
       "      <td>1</td>\n",
       "      <td>Avengers: Endgame (2019)</td>\n",
       "      <td>After the devastating events of Avengers: Infi...</td>\n",
       "      <td>Walt Disney Studios Motion Pictures</td>\n",
       "      <td>April 24, 2019</td>\n",
       "      <td>858373000</td>\n",
       "      <td>1939128328</td>\n",
       "      <td>2797501328</td>\n",
       "      <td>['Action', 'Adventure', 'Drama', 'Sci-Fi']</td>\n",
       "      <td>3 hr 1 min</td>\n",
       "      <td>PG-13</td>\n",
       "    </tr>\n",
       "    <tr>\n",
       "      <th>2</th>\n",
       "      <td>2</td>\n",
       "      <td>Avatar (2009)</td>\n",
       "      <td>A paraplegic Marine dispatched to the moon Pan...</td>\n",
       "      <td>Twentieth Century Fox</td>\n",
       "      <td>December 16, 2009</td>\n",
       "      <td>760507625</td>\n",
       "      <td>2086738578</td>\n",
       "      <td>2847246203</td>\n",
       "      <td>['Action', 'Adventure', 'Fantasy', 'Sci-Fi']</td>\n",
       "      <td>2 hr 42 min</td>\n",
       "      <td>PG-13</td>\n",
       "    </tr>\n",
       "    <tr>\n",
       "      <th>3</th>\n",
       "      <td>3</td>\n",
       "      <td>Black Panther (2018)</td>\n",
       "      <td>T'Challa, heir to the hidden but advanced king...</td>\n",
       "      <td>Walt Disney Studios Motion Pictures</td>\n",
       "      <td>NaN</td>\n",
       "      <td>700426566</td>\n",
       "      <td>647171407</td>\n",
       "      <td>1347597973</td>\n",
       "      <td>['Action', 'Adventure', 'Sci-Fi']</td>\n",
       "      <td>2 hr 14 min</td>\n",
       "      <td>NaN</td>\n",
       "    </tr>\n",
       "    <tr>\n",
       "      <th>4</th>\n",
       "      <td>4</td>\n",
       "      <td>Avengers: Infinity War (2018)</td>\n",
       "      <td>The Avengers and their allies must be willing ...</td>\n",
       "      <td>Walt Disney Studios Motion Pictures</td>\n",
       "      <td>NaN</td>\n",
       "      <td>678815482</td>\n",
       "      <td>1369544272</td>\n",
       "      <td>2048359754</td>\n",
       "      <td>['Action', 'Adventure', 'Sci-Fi']</td>\n",
       "      <td>2 hr 29 min</td>\n",
       "      <td>NaN</td>\n",
       "    </tr>\n",
       "    <tr>\n",
       "      <th>...</th>\n",
       "      <td>...</td>\n",
       "      <td>...</td>\n",
       "      <td>...</td>\n",
       "      <td>...</td>\n",
       "      <td>...</td>\n",
       "      <td>...</td>\n",
       "      <td>...</td>\n",
       "      <td>...</td>\n",
       "      <td>...</td>\n",
       "      <td>...</td>\n",
       "      <td>...</td>\n",
       "    </tr>\n",
       "    <tr>\n",
       "      <th>913</th>\n",
       "      <td>913</td>\n",
       "      <td>The Notebook (2004)</td>\n",
       "      <td>A poor yet passionate young man falls in love ...</td>\n",
       "      <td>New Line Cinema</td>\n",
       "      <td>June 25, 2004</td>\n",
       "      <td>81001787</td>\n",
       "      <td>36813370</td>\n",
       "      <td>117815157</td>\n",
       "      <td>['Drama', 'Romance']</td>\n",
       "      <td>2 hr 3 min</td>\n",
       "      <td>PG-13</td>\n",
       "    </tr>\n",
       "    <tr>\n",
       "      <th>914</th>\n",
       "      <td>914</td>\n",
       "      <td>Jimmy Neutron: Boy Genius (2001)</td>\n",
       "      <td>An eight-year-old boy genius and his friends m...</td>\n",
       "      <td>Paramount Pictures</td>\n",
       "      <td>December 21, 2001</td>\n",
       "      <td>80936232</td>\n",
       "      <td>22056304</td>\n",
       "      <td>102992536</td>\n",
       "      <td>['Action', 'Adventure', 'Animation', 'Comedy',...</td>\n",
       "      <td>1 hr 22 min</td>\n",
       "      <td>NaN</td>\n",
       "    </tr>\n",
       "    <tr>\n",
       "      <th>915</th>\n",
       "      <td>915</td>\n",
       "      <td>Eat Pray Love (2010)</td>\n",
       "      <td>A married woman realizes how unhappy her marri...</td>\n",
       "      <td>Sony Pictures Entertainment (SPE)</td>\n",
       "      <td>August 13, 2010</td>\n",
       "      <td>80574010</td>\n",
       "      <td>124020006</td>\n",
       "      <td>204594016</td>\n",
       "      <td>['Biography', 'Drama', 'Romance']</td>\n",
       "      <td>2 hr 13 min</td>\n",
       "      <td>PG-13</td>\n",
       "    </tr>\n",
       "    <tr>\n",
       "      <th>916</th>\n",
       "      <td>916</td>\n",
       "      <td>The Texas Chainsaw Massacre (2003)</td>\n",
       "      <td>After picking up a traumatized young hitchhike...</td>\n",
       "      <td>New Line Cinema</td>\n",
       "      <td>October 17, 2003</td>\n",
       "      <td>80571655</td>\n",
       "      <td>26792250</td>\n",
       "      <td>107363905</td>\n",
       "      <td>['Crime', 'Horror']</td>\n",
       "      <td>1 hr 38 min</td>\n",
       "      <td>R</td>\n",
       "    </tr>\n",
       "    <tr>\n",
       "      <th>917</th>\n",
       "      <td>917</td>\n",
       "      <td>Zookeeper (2011)</td>\n",
       "      <td>A group of zoo animals decide to break their c...</td>\n",
       "      <td>Sony Pictures Entertainment (SPE)</td>\n",
       "      <td>July 6, 2011</td>\n",
       "      <td>80360843</td>\n",
       "      <td>89491916</td>\n",
       "      <td>169852759</td>\n",
       "      <td>['Comedy', 'Family', 'Fantasy', 'Romance']</td>\n",
       "      <td>1 hr 42 min</td>\n",
       "      <td>PG</td>\n",
       "    </tr>\n",
       "  </tbody>\n",
       "</table>\n",
       "<p>918 rows × 11 columns</p>\n",
       "</div>"
      ],
      "text/plain": [
       "     Unnamed: 0                                              Title  \\\n",
       "0             0  Star Wars: Episode VII - The Force Awakens (2015)   \n",
       "1             1                           Avengers: Endgame (2019)   \n",
       "2             2                                      Avatar (2009)   \n",
       "3             3                               Black Panther (2018)   \n",
       "4             4                      Avengers: Infinity War (2018)   \n",
       "..          ...                                                ...   \n",
       "913         913                                The Notebook (2004)   \n",
       "914         914                   Jimmy Neutron: Boy Genius (2001)   \n",
       "915         915                               Eat Pray Love (2010)   \n",
       "916         916                 The Texas Chainsaw Massacre (2003)   \n",
       "917         917                                   Zookeeper (2011)   \n",
       "\n",
       "                                            Movie Info  \\\n",
       "0    As a new threat to the galaxy rises, Rey, a de...   \n",
       "1    After the devastating events of Avengers: Infi...   \n",
       "2    A paraplegic Marine dispatched to the moon Pan...   \n",
       "3    T'Challa, heir to the hidden but advanced king...   \n",
       "4    The Avengers and their allies must be willing ...   \n",
       "..                                                 ...   \n",
       "913  A poor yet passionate young man falls in love ...   \n",
       "914  An eight-year-old boy genius and his friends m...   \n",
       "915  A married woman realizes how unhappy her marri...   \n",
       "916  After picking up a traumatized young hitchhike...   \n",
       "917  A group of zoo animals decide to break their c...   \n",
       "\n",
       "                             Distributor       Release Date  \\\n",
       "0    Walt Disney Studios Motion Pictures  December 16, 2015   \n",
       "1    Walt Disney Studios Motion Pictures     April 24, 2019   \n",
       "2                  Twentieth Century Fox  December 16, 2009   \n",
       "3    Walt Disney Studios Motion Pictures                NaN   \n",
       "4    Walt Disney Studios Motion Pictures                NaN   \n",
       "..                                   ...                ...   \n",
       "913                      New Line Cinema      June 25, 2004   \n",
       "914                   Paramount Pictures  December 21, 2001   \n",
       "915    Sony Pictures Entertainment (SPE)    August 13, 2010   \n",
       "916                      New Line Cinema   October 17, 2003   \n",
       "917    Sony Pictures Entertainment (SPE)       July 6, 2011   \n",
       "\n",
       "     Domestic Sales (in $)  International Sales (in $)  World Sales (in $)  \\\n",
       "0                936662225                  1132859475          2069521700   \n",
       "1                858373000                  1939128328          2797501328   \n",
       "2                760507625                  2086738578          2847246203   \n",
       "3                700426566                   647171407          1347597973   \n",
       "4                678815482                  1369544272          2048359754   \n",
       "..                     ...                         ...                 ...   \n",
       "913               81001787                    36813370           117815157   \n",
       "914               80936232                    22056304           102992536   \n",
       "915               80574010                   124020006           204594016   \n",
       "916               80571655                    26792250           107363905   \n",
       "917               80360843                    89491916           169852759   \n",
       "\n",
       "                                                 Genre Movie Runtime License  \n",
       "0                    ['Action', 'Adventure', 'Sci-Fi']   2 hr 18 min   PG-13  \n",
       "1           ['Action', 'Adventure', 'Drama', 'Sci-Fi']    3 hr 1 min   PG-13  \n",
       "2         ['Action', 'Adventure', 'Fantasy', 'Sci-Fi']   2 hr 42 min   PG-13  \n",
       "3                    ['Action', 'Adventure', 'Sci-Fi']   2 hr 14 min     NaN  \n",
       "4                    ['Action', 'Adventure', 'Sci-Fi']   2 hr 29 min     NaN  \n",
       "..                                                 ...           ...     ...  \n",
       "913                               ['Drama', 'Romance']    2 hr 3 min   PG-13  \n",
       "914  ['Action', 'Adventure', 'Animation', 'Comedy',...   1 hr 22 min     NaN  \n",
       "915                  ['Biography', 'Drama', 'Romance']   2 hr 13 min   PG-13  \n",
       "916                                ['Crime', 'Horror']   1 hr 38 min       R  \n",
       "917         ['Comedy', 'Family', 'Fantasy', 'Romance']   1 hr 42 min      PG  \n",
       "\n",
       "[918 rows x 11 columns]"
      ]
     },
     "execution_count": 77,
     "metadata": {},
     "output_type": "execute_result"
    }
   ],
   "source": [
    "df=pd.read_csv('Highest H_Movies.csv')\n",
    "df"
   ]
  },
  {
   "cell_type": "code",
   "execution_count": 83,
   "id": "f5b25f4b",
   "metadata": {},
   "outputs": [],
   "source": [
    "nlc=df[df.Distributor=='New Line Cinema']"
   ]
  },
  {
   "cell_type": "code",
   "execution_count": 84,
   "id": "1d84e5c8",
   "metadata": {},
   "outputs": [
    {
     "data": {
      "text/plain": [
       "(21, 11)"
      ]
     },
     "execution_count": 84,
     "metadata": {},
     "output_type": "execute_result"
    }
   ],
   "source": [
    "#total no of new line cinema distributor is 21\n",
    "nlc.shape"
   ]
  },
  {
   "cell_type": "code",
   "execution_count": 3,
   "id": "936d0031",
   "metadata": {},
   "outputs": [
    {
     "data": {
      "text/plain": [
       "(918, 11)"
      ]
     },
     "execution_count": 3,
     "metadata": {},
     "output_type": "execute_result"
    }
   ],
   "source": [
    "df.shape"
   ]
  },
  {
   "cell_type": "code",
   "execution_count": 150,
   "id": "edbc28f7",
   "metadata": {},
   "outputs": [
    {
     "data": {
      "text/plain": [
       "Unnamed: 0                     int64\n",
       "Title                         object\n",
       "Movie Info                    object\n",
       "Distributor                   object\n",
       "Release Date                  object\n",
       "Domestic Sales (in $)          int64\n",
       "International Sales (in $)     int64\n",
       "World Sales (in $)             int64\n",
       "Genre                         object\n",
       "Movie Runtime                 object\n",
       "License                       object\n",
       "Release Year                  object\n",
       "dtype: object"
      ]
     },
     "execution_count": 150,
     "metadata": {},
     "output_type": "execute_result"
    }
   ],
   "source": [
    "df.dtypes"
   ]
  },
  {
   "cell_type": "code",
   "execution_count": 4,
   "id": "cff6a7dd",
   "metadata": {},
   "outputs": [
    {
     "data": {
      "text/plain": [
       "Index(['Unnamed: 0', 'Title', 'Movie Info', 'Distributor', 'Release Date',\n",
       "       'Domestic Sales (in $)', 'International Sales (in $)',\n",
       "       'World Sales (in $)', 'Genre', 'Movie Runtime', 'License'],\n",
       "      dtype='object')"
      ]
     },
     "execution_count": 4,
     "metadata": {},
     "output_type": "execute_result"
    }
   ],
   "source": [
    "df.columns"
   ]
  },
  {
   "cell_type": "code",
   "execution_count": 8,
   "id": "965dd0c6",
   "metadata": {},
   "outputs": [],
   "source": [
    "#check Distributor count from movies data set\n",
    "md = df.Distributor.value_counts()"
   ]
  },
  {
   "cell_type": "code",
   "execution_count": 9,
   "id": "7a246533",
   "metadata": {},
   "outputs": [
    {
     "data": {
      "text/plain": [
       "Warner Bros.                           158\n",
       "Walt Disney Studios Motion Pictures    155\n",
       "Universal Pictures                     119\n",
       "Twentieth Century Fox                  117\n",
       "Sony Pictures Entertainment (SPE)      101\n",
       "Paramount Pictures                      99\n",
       "DreamWorks                              21\n",
       "New Line Cinema                         21\n",
       "Lionsgate                               19\n",
       "DreamWorks Distribution                 17\n",
       "Metro-Goldwyn-Mayer (MGM)               12\n",
       "TriStar Pictures                         9\n",
       "Miramax                                  9\n",
       "Revolution Studios                       8\n",
       "Columbia Pictures                        7\n",
       "Dimension Films                          7\n",
       "The Weinstein Company                    6\n",
       "Summit Entertainment                     5\n",
       "Fox Searchlight Pictures                 4\n",
       "STX Entertainment                        3\n",
       "Orion Pictures                           3\n",
       "Screen Gems                              3\n",
       "United Artists                           2\n",
       "Focus Features                           2\n",
       "FilmDistrict                             2\n",
       "Relativity Media                         1\n",
       "United Artists Releasing                 1\n",
       "IFC Films                                1\n",
       "20th Century Studios                     1\n",
       "USA Films                                1\n",
       "Sony Pictures Classics                   1\n",
       "Artisan Entertainment                    1\n",
       "Newmarket Films                          1\n",
       "Roadside Attractions                     1\n",
       "Name: Distributor, dtype: int64"
      ]
     },
     "execution_count": 9,
     "metadata": {},
     "output_type": "execute_result"
    }
   ],
   "source": [
    "md"
   ]
  },
  {
   "cell_type": "code",
   "execution_count": 10,
   "id": "9768070e",
   "metadata": {},
   "outputs": [],
   "source": [
    "#from above data i need onlu top 10 distributor\n",
    "Top_dist = df.Distributor.value_counts().head(10)"
   ]
  },
  {
   "cell_type": "code",
   "execution_count": 138,
   "id": "fff38f0f",
   "metadata": {},
   "outputs": [
    {
     "data": {
      "text/html": [
       "<div>\n",
       "<style scoped>\n",
       "    .dataframe tbody tr th:only-of-type {\n",
       "        vertical-align: middle;\n",
       "    }\n",
       "\n",
       "    .dataframe tbody tr th {\n",
       "        vertical-align: top;\n",
       "    }\n",
       "\n",
       "    .dataframe thead th {\n",
       "        text-align: right;\n",
       "    }\n",
       "</style>\n",
       "<table border=\"1\" class=\"dataframe\">\n",
       "  <thead>\n",
       "    <tr style=\"text-align: right;\">\n",
       "      <th></th>\n",
       "      <th>Unnamed: 0</th>\n",
       "      <th>Title</th>\n",
       "      <th>Movie Info</th>\n",
       "      <th>Distributor</th>\n",
       "      <th>Release Date</th>\n",
       "      <th>Domestic Sales (in $)</th>\n",
       "      <th>International Sales (in $)</th>\n",
       "      <th>World Sales (in $)</th>\n",
       "      <th>Genre</th>\n",
       "      <th>Movie Runtime</th>\n",
       "      <th>License</th>\n",
       "      <th>Release Year</th>\n",
       "    </tr>\n",
       "  </thead>\n",
       "  <tbody>\n",
       "    <tr>\n",
       "      <th>0</th>\n",
       "      <td>0</td>\n",
       "      <td>Star Wars: Episode VII - The Force Awakens (2015)</td>\n",
       "      <td>As a new threat to the galaxy rises, Rey, a de...</td>\n",
       "      <td>W_Disney</td>\n",
       "      <td>December 16, 2015</td>\n",
       "      <td>936662225</td>\n",
       "      <td>1132859475</td>\n",
       "      <td>2069521700</td>\n",
       "      <td>['Action', 'Adventure', 'Sci-Fi']</td>\n",
       "      <td>2 hr 18 min</td>\n",
       "      <td>PG-13</td>\n",
       "      <td>2015</td>\n",
       "    </tr>\n",
       "    <tr>\n",
       "      <th>1</th>\n",
       "      <td>1</td>\n",
       "      <td>Avengers: Endgame (2019)</td>\n",
       "      <td>After the devastating events of Avengers: Infi...</td>\n",
       "      <td>W_Disney</td>\n",
       "      <td>April 24, 2019</td>\n",
       "      <td>858373000</td>\n",
       "      <td>1939128328</td>\n",
       "      <td>2797501328</td>\n",
       "      <td>['Action', 'Adventure', 'Drama', 'Sci-Fi']</td>\n",
       "      <td>3 hr 1 min</td>\n",
       "      <td>PG-13</td>\n",
       "      <td>2019</td>\n",
       "    </tr>\n",
       "    <tr>\n",
       "      <th>2</th>\n",
       "      <td>2</td>\n",
       "      <td>Avatar (2009)</td>\n",
       "      <td>A paraplegic Marine dispatched to the moon Pan...</td>\n",
       "      <td>Twentieth Century Fox</td>\n",
       "      <td>December 16, 2009</td>\n",
       "      <td>760507625</td>\n",
       "      <td>2086738578</td>\n",
       "      <td>2847246203</td>\n",
       "      <td>['Action', 'Adventure', 'Fantasy', 'Sci-Fi']</td>\n",
       "      <td>2 hr 42 min</td>\n",
       "      <td>PG-13</td>\n",
       "      <td>2009</td>\n",
       "    </tr>\n",
       "    <tr>\n",
       "      <th>3</th>\n",
       "      <td>3</td>\n",
       "      <td>Black Panther (2018)</td>\n",
       "      <td>T'Challa, heir to the hidden but advanced king...</td>\n",
       "      <td>W_Disney</td>\n",
       "      <td>NaN</td>\n",
       "      <td>700426566</td>\n",
       "      <td>647171407</td>\n",
       "      <td>1347597973</td>\n",
       "      <td>['Action', 'Adventure', 'Sci-Fi']</td>\n",
       "      <td>2 hr 14 min</td>\n",
       "      <td>NaN</td>\n",
       "      <td>2018</td>\n",
       "    </tr>\n",
       "    <tr>\n",
       "      <th>4</th>\n",
       "      <td>4</td>\n",
       "      <td>Avengers: Infinity War (2018)</td>\n",
       "      <td>The Avengers and their allies must be willing ...</td>\n",
       "      <td>W_Disney</td>\n",
       "      <td>NaN</td>\n",
       "      <td>678815482</td>\n",
       "      <td>1369544272</td>\n",
       "      <td>2048359754</td>\n",
       "      <td>['Action', 'Adventure', 'Sci-Fi']</td>\n",
       "      <td>2 hr 29 min</td>\n",
       "      <td>NaN</td>\n",
       "      <td>2018</td>\n",
       "    </tr>\n",
       "    <tr>\n",
       "      <th>...</th>\n",
       "      <td>...</td>\n",
       "      <td>...</td>\n",
       "      <td>...</td>\n",
       "      <td>...</td>\n",
       "      <td>...</td>\n",
       "      <td>...</td>\n",
       "      <td>...</td>\n",
       "      <td>...</td>\n",
       "      <td>...</td>\n",
       "      <td>...</td>\n",
       "      <td>...</td>\n",
       "      <td>...</td>\n",
       "    </tr>\n",
       "    <tr>\n",
       "      <th>95</th>\n",
       "      <td>95</td>\n",
       "      <td>Inception (2010)</td>\n",
       "      <td>A thief who steals corporate secrets through t...</td>\n",
       "      <td>Warner Bros.</td>\n",
       "      <td>July 15, 2010</td>\n",
       "      <td>292576195</td>\n",
       "      <td>544260772</td>\n",
       "      <td>836836967</td>\n",
       "      <td>['Action', 'Adventure', 'Sci-Fi', 'Thriller']</td>\n",
       "      <td>2 hr 28 min</td>\n",
       "      <td>PG-13</td>\n",
       "      <td>2010</td>\n",
       "    </tr>\n",
       "    <tr>\n",
       "      <th>96</th>\n",
       "      <td>96</td>\n",
       "      <td>Harry Potter and the Order of the Phoenix (2007)</td>\n",
       "      <td>With their warning about Lord Voldemort's retu...</td>\n",
       "      <td>Warner Bros.</td>\n",
       "      <td>July 11, 2007</td>\n",
       "      <td>292353413</td>\n",
       "      <td>649818982</td>\n",
       "      <td>942172396</td>\n",
       "      <td>['Action', 'Adventure', 'Family', 'Fantasy', '...</td>\n",
       "      <td>2 hr 18 min</td>\n",
       "      <td>PG-13</td>\n",
       "      <td>2007</td>\n",
       "    </tr>\n",
       "    <tr>\n",
       "      <th>97</th>\n",
       "      <td>97</td>\n",
       "      <td>The Twilight Saga: Breaking Dawn - Part 2 (2012)</td>\n",
       "      <td>After the birth of Renesmee/Nessie, the Cullen...</td>\n",
       "      <td>Lionsgate</td>\n",
       "      <td>November 14, 2012</td>\n",
       "      <td>292324737</td>\n",
       "      <td>537422917</td>\n",
       "      <td>829747654</td>\n",
       "      <td>['Adventure', 'Drama', 'Fantasy', 'Romance']</td>\n",
       "      <td>1 hr 55 min</td>\n",
       "      <td>PG-13</td>\n",
       "      <td>2012</td>\n",
       "    </tr>\n",
       "    <tr>\n",
       "      <th>98</th>\n",
       "      <td>98</td>\n",
       "      <td>The Chronicles of Narnia: The Lion, the Witch ...</td>\n",
       "      <td>Four kids travel through a wardrobe to the lan...</td>\n",
       "      <td>W_Disney</td>\n",
       "      <td>December 7, 2005</td>\n",
       "      <td>291710957</td>\n",
       "      <td>453302158</td>\n",
       "      <td>745013115</td>\n",
       "      <td>['Adventure', 'Family', 'Fantasy']</td>\n",
       "      <td>2 hr 23 min</td>\n",
       "      <td>PG</td>\n",
       "      <td>2005</td>\n",
       "    </tr>\n",
       "    <tr>\n",
       "      <th>99</th>\n",
       "      <td>99</td>\n",
       "      <td>Man of Steel (2013)</td>\n",
       "      <td>An alien child is evacuated from his dying wor...</td>\n",
       "      <td>Warner Bros.</td>\n",
       "      <td>June 12, 2013</td>\n",
       "      <td>291045518</td>\n",
       "      <td>377000000</td>\n",
       "      <td>668045518</td>\n",
       "      <td>['Action', 'Adventure', 'Sci-Fi']</td>\n",
       "      <td>2 hr 23 min</td>\n",
       "      <td>PG-13</td>\n",
       "      <td>2013</td>\n",
       "    </tr>\n",
       "  </tbody>\n",
       "</table>\n",
       "<p>100 rows × 12 columns</p>\n",
       "</div>"
      ],
      "text/plain": [
       "    Unnamed: 0                                              Title  \\\n",
       "0            0  Star Wars: Episode VII - The Force Awakens (2015)   \n",
       "1            1                           Avengers: Endgame (2019)   \n",
       "2            2                                      Avatar (2009)   \n",
       "3            3                               Black Panther (2018)   \n",
       "4            4                      Avengers: Infinity War (2018)   \n",
       "..         ...                                                ...   \n",
       "95          95                                   Inception (2010)   \n",
       "96          96   Harry Potter and the Order of the Phoenix (2007)   \n",
       "97          97   The Twilight Saga: Breaking Dawn - Part 2 (2012)   \n",
       "98          98  The Chronicles of Narnia: The Lion, the Witch ...   \n",
       "99          99                                Man of Steel (2013)   \n",
       "\n",
       "                                           Movie Info            Distributor  \\\n",
       "0   As a new threat to the galaxy rises, Rey, a de...               W_Disney   \n",
       "1   After the devastating events of Avengers: Infi...               W_Disney   \n",
       "2   A paraplegic Marine dispatched to the moon Pan...  Twentieth Century Fox   \n",
       "3   T'Challa, heir to the hidden but advanced king...               W_Disney   \n",
       "4   The Avengers and their allies must be willing ...               W_Disney   \n",
       "..                                                ...                    ...   \n",
       "95  A thief who steals corporate secrets through t...           Warner Bros.   \n",
       "96  With their warning about Lord Voldemort's retu...           Warner Bros.   \n",
       "97  After the birth of Renesmee/Nessie, the Cullen...              Lionsgate   \n",
       "98  Four kids travel through a wardrobe to the lan...               W_Disney   \n",
       "99  An alien child is evacuated from his dying wor...           Warner Bros.   \n",
       "\n",
       "         Release Date  Domestic Sales (in $)  International Sales (in $)  \\\n",
       "0   December 16, 2015              936662225                  1132859475   \n",
       "1      April 24, 2019              858373000                  1939128328   \n",
       "2   December 16, 2009              760507625                  2086738578   \n",
       "3                 NaN              700426566                   647171407   \n",
       "4                 NaN              678815482                  1369544272   \n",
       "..                ...                    ...                         ...   \n",
       "95      July 15, 2010              292576195                   544260772   \n",
       "96      July 11, 2007              292353413                   649818982   \n",
       "97  November 14, 2012              292324737                   537422917   \n",
       "98   December 7, 2005              291710957                   453302158   \n",
       "99      June 12, 2013              291045518                   377000000   \n",
       "\n",
       "    World Sales (in $)                                              Genre  \\\n",
       "0           2069521700                  ['Action', 'Adventure', 'Sci-Fi']   \n",
       "1           2797501328         ['Action', 'Adventure', 'Drama', 'Sci-Fi']   \n",
       "2           2847246203       ['Action', 'Adventure', 'Fantasy', 'Sci-Fi']   \n",
       "3           1347597973                  ['Action', 'Adventure', 'Sci-Fi']   \n",
       "4           2048359754                  ['Action', 'Adventure', 'Sci-Fi']   \n",
       "..                 ...                                                ...   \n",
       "95           836836967      ['Action', 'Adventure', 'Sci-Fi', 'Thriller']   \n",
       "96           942172396  ['Action', 'Adventure', 'Family', 'Fantasy', '...   \n",
       "97           829747654       ['Adventure', 'Drama', 'Fantasy', 'Romance']   \n",
       "98           745013115                 ['Adventure', 'Family', 'Fantasy']   \n",
       "99           668045518                  ['Action', 'Adventure', 'Sci-Fi']   \n",
       "\n",
       "   Movie Runtime License Release Year  \n",
       "0    2 hr 18 min   PG-13         2015  \n",
       "1     3 hr 1 min   PG-13         2019  \n",
       "2    2 hr 42 min   PG-13         2009  \n",
       "3    2 hr 14 min     NaN         2018  \n",
       "4    2 hr 29 min     NaN         2018  \n",
       "..           ...     ...          ...  \n",
       "95   2 hr 28 min   PG-13         2010  \n",
       "96   2 hr 18 min   PG-13         2007  \n",
       "97   1 hr 55 min   PG-13         2012  \n",
       "98   2 hr 23 min      PG         2005  \n",
       "99   2 hr 23 min   PG-13         2013  \n",
       "\n",
       "[100 rows x 12 columns]"
      ]
     },
     "execution_count": 138,
     "metadata": {},
     "output_type": "execute_result"
    }
   ],
   "source": [
    "Top_dist"
   ]
  },
  {
   "cell_type": "code",
   "execution_count": 161,
   "id": "223e2c0e",
   "metadata": {},
   "outputs": [
    {
     "data": {
      "text/plain": [
       "<AxesSubplot:ylabel='Frequency'>"
      ]
     },
     "execution_count": 161,
     "metadata": {},
     "output_type": "execute_result"
    },
    {
     "data": {
      "image/png": "[encoded data removed]",
      "text/plain": [
       "<Figure size 432x288 with 1 Axes>"
      ]
     },
     "metadata": {
      "needs_background": "light"
     },
     "output_type": "display_data"
    }
   ],
   "source": [
    "Top_dist[['Domestic Sales (in $)']].plot.hist()\n",
    "#plt.savefig('img.png',dpi=500)\n",
    "#Top_dist"
   ]
  },
  {
   "cell_type": "code",
   "execution_count": 160,
   "id": "942063f0",
   "metadata": {},
   "outputs": [],
   "source": [
    "#as per the given data it is analysis that Warner Bros(158) it gives the maximaum count of distribution  and Walt Disney Studios Motion Pictures(155) having \n",
    "#second position. Min Distributor data is allocated with DreamWorks Distribution(17)     \n",
    "\n"
   ]
  },
  {
   "cell_type": "code",
   "execution_count": 13,
   "id": "e31a2c86",
   "metadata": {},
   "outputs": [
    {
     "data": {
      "text/plain": [
       "Index(['Warner Bros.', 'Walt Disney Studios Motion Pictures',\n",
       "       'Universal Pictures', 'Twentieth Century Fox',\n",
       "       'Sony Pictures Entertainment (SPE)', 'Paramount Pictures', 'DreamWorks',\n",
       "       'New Line Cinema', 'Lionsgate', 'DreamWorks Distribution'],\n",
       "      dtype='object')"
      ]
     },
     "execution_count": 13,
     "metadata": {},
     "output_type": "execute_result"
    }
   ],
   "source": [
    "Top_dist.index"
   ]
  },
  {
   "cell_type": "code",
   "execution_count": 14,
   "id": "ab565bf1",
   "metadata": {},
   "outputs": [
    {
     "data": {
      "text/plain": [
       "array([158, 155, 119, 117, 101,  99,  21,  21,  19,  17], dtype=int64)"
      ]
     },
     "execution_count": 14,
     "metadata": {},
     "output_type": "execute_result"
    }
   ],
   "source": [
    "Top_dist.values"
   ]
  },
  {
   "cell_type": "code",
   "execution_count": 85,
   "id": "1fd41a53",
   "metadata": {},
   "outputs": [],
   "source": [
    "Top_Runtime = df['Movie Runtime'].value_counts().head(10)"
   ]
  },
  {
   "cell_type": "code",
   "execution_count": 86,
   "id": "a4ba94a7",
   "metadata": {},
   "outputs": [
    {
     "data": {
      "text/plain": [
       "1 hr 55 min    24\n",
       "1 hr 56 min    23\n",
       "2 hr 10 min    22\n",
       "1 hr 46 min    20\n",
       "1 hr 53 min    20\n",
       "2 hr 4 min     20\n",
       "1 hr 58 min    20\n",
       "1 hr 35 min    20\n",
       "1 hr 37 min    20\n",
       "1 hr 32 min    19\n",
       "Name: Movie Runtime, dtype: int64"
      ]
     },
     "execution_count": 86,
     "metadata": {},
     "output_type": "execute_result"
    }
   ],
   "source": [
    "Top_Runtime"
   ]
  },
  {
   "cell_type": "code",
   "execution_count": 87,
   "id": "d1c24142",
   "metadata": {},
   "outputs": [
    {
     "data": {
      "text/plain": [
       "array([24, 23, 22, 20, 20, 20, 20, 20, 20, 19], dtype=int64)"
      ]
     },
     "execution_count": 87,
     "metadata": {},
     "output_type": "execute_result"
    }
   ],
   "source": [
    "#near about 2 hr timeallocated  movies are maximun i.e.24\n",
    "Top_Runtime.values"
   ]
  },
  {
   "cell_type": "code",
   "execution_count": 89,
   "id": "ccdb6c18",
   "metadata": {},
   "outputs": [
    {
     "data": {
      "image/png": "[encoded data removed]",
      "text/plain": [
       "<Figure size 432x288 with 1 Axes>"
      ]
     },
     "metadata": {},
     "output_type": "display_data"
    }
   ],
   "source": [
    "plt.pie(Top_Runtime,autopct = '%f%%', labels = Top_Runtime.values,radius = 1.8)\n",
    "plt.show()"
   ]
  },
  {
   "cell_type": "code",
   "execution_count": null,
   "id": "fa103238",
   "metadata": {},
   "outputs": [],
   "source": [
    "plt.scatter(df.Title,df['Movie Runtime'])\n",
    "plt.show()"
   ]
  },
  {
   "cell_type": "code",
   "execution_count": 39,
   "id": "674a0940",
   "metadata": {},
   "outputs": [
    {
     "data": {
      "text/plain": [
       "0      2 hr 18 min\n",
       "1       3 hr 1 min\n",
       "2      2 hr 42 min\n",
       "3      2 hr 14 min\n",
       "4      2 hr 29 min\n",
       "          ...     \n",
       "913     2 hr 3 min\n",
       "914    1 hr 22 min\n",
       "915    2 hr 13 min\n",
       "916    1 hr 38 min\n",
       "917    1 hr 42 min\n",
       "Name: Movie Runtime, Length: 918, dtype: object"
      ]
     },
     "execution_count": 39,
     "metadata": {},
     "output_type": "execute_result"
    }
   ],
   "source": [
    "df['Movie Runtime']"
   ]
  },
  {
   "cell_type": "code",
   "execution_count": 149,
   "id": "fb4f6bbd",
   "metadata": {},
   "outputs": [],
   "source": [
    "import re\n",
    "def rm_year(val):\n",
    "  if re.search('[(0-9)]{6}' ,val):  # regex for words such as \"(2001)\"\n",
    "    pos = re.search('[(0-9)]{6}' ,val).start()  \n",
    "    return val[pos+1:-1]\n",
    "\n",
    "df['Release Year'] = df['Title'].apply(rm_year)"
   ]
  },
  {
   "cell_type": "code",
   "execution_count": 55,
   "id": "d679e598",
   "metadata": {},
   "outputs": [
    {
     "data": {
      "text/plain": [
       "[0      False\n",
       " 1      False\n",
       " 2      False\n",
       " 3      False\n",
       " 4      False\n",
       "        ...  \n",
       " 913    False\n",
       " 914    False\n",
       " 915    False\n",
       " 916    False\n",
       " 917    False\n",
       " Name: Title, Length: 918, dtype: bool]"
      ]
     },
     "execution_count": 55,
     "metadata": {},
     "output_type": "execute_result"
    }
   ],
   "source": [
    "[df.Title == '2015']"
   ]
  },
  {
   "cell_type": "code",
   "execution_count": 91,
   "id": "8e9ca7a7",
   "metadata": {},
   "outputs": [
    {
     "data": {
      "text/plain": [
       "Index(['Unnamed: 0', 'Title', 'Movie Info', 'Distributor', 'Release Date',\n",
       "       'Domestic Sales (in $)', 'International Sales (in $)',\n",
       "       'World Sales (in $)', 'Genre', 'Movie Runtime', 'License',\n",
       "       'Release Year'],\n",
       "      dtype='object')"
      ]
     },
     "execution_count": 91,
     "metadata": {},
     "output_type": "execute_result"
    }
   ],
   "source": [
    "df.columns"
   ]
  },
  {
   "cell_type": "code",
   "execution_count": 94,
   "id": "9d14e79f",
   "metadata": {},
   "outputs": [
    {
     "data": {
      "text/plain": [
       "[<matplotlib.lines.Line2D at 0x17694c16fd0>]"
      ]
     },
     "execution_count": 94,
     "metadata": {},
     "output_type": "execute_result"
    },
    {
     "data": {
      "image/png": "[encoded data removed]",
      "text/plain": [
       "<Figure size 432x288 with 1 Axes>"
      ]
     },
     "metadata": {
      "needs_background": "light"
     },
     "output_type": "display_data"
    }
   ],
   "source": [
    "plt.plot(df['World Sales (in $)'])"
   ]
  },
  {
   "cell_type": "code",
   "execution_count": 95,
   "id": "0686fbe2",
   "metadata": {},
   "outputs": [
    {
     "data": {
      "text/plain": [
       "0      2069521700\n",
       "1      2797501328\n",
       "2      2847246203\n",
       "3      1347597973\n",
       "4      2048359754\n",
       "          ...    \n",
       "913     117815157\n",
       "914     102992536\n",
       "915     204594016\n",
       "916     107363905\n",
       "917     169852759\n",
       "Name: World Sales (in $), Length: 918, dtype: int64"
      ]
     },
     "execution_count": 95,
     "metadata": {},
     "output_type": "execute_result"
    }
   ],
   "source": [
    "w = df['World Sales (in $)']\n",
    "i = df['International Sales (in $)']"
   ]
  },
  {
   "cell_type": "code",
   "execution_count": 97,
   "id": "ca9f0a15",
   "metadata": {},
   "outputs": [
    {
     "data": {
      "text/plain": [
       "<AxesSubplot:>"
      ]
     },
     "execution_count": 97,
     "metadata": {},
     "output_type": "execute_result"
    },
    {
     "data": {
      "image/png": "[encoded data removed]",
      "text/plain": [
       "<Figure size 432x288 with 1 Axes>"
      ]
     },
     "metadata": {
      "needs_background": "light"
     },
     "output_type": "display_data"
    }
   ],
   "source": [
    "df[['World Sales (in $)','International Sales (in $)']].plot()\n",
    "# world sale range is high as compare to international sale"
   ]
  },
  {
   "cell_type": "code",
   "execution_count": 102,
   "id": "018ae3b2",
   "metadata": {},
   "outputs": [
    {
     "data": {
      "text/plain": [
       "<AxesSubplot:title={'center':'Bar plot of Sales'}>"
      ]
     },
     "execution_count": 102,
     "metadata": {},
     "output_type": "execute_result"
    },
    {
     "data": {
      "image/png": "[encoded data removed]",
      "text/plain": [
       "<Figure size 1080x432 with 1 Axes>"
      ]
     },
     "metadata": {
      "needs_background": "light"
     },
     "output_type": "display_data"
    }
   ],
   "source": [
    "df['International Sales (in $)'].plot.bar(title='Bar plot of Sales',figsize=(15,6))"
   ]
  },
  {
   "cell_type": "code",
   "execution_count": 104,
   "id": "6e908e20",
   "metadata": {},
   "outputs": [
    {
     "data": {
      "text/plain": [
       "<AxesSubplot:xlabel='Imternational sales', ylabel='world sales'>"
      ]
     },
     "execution_count": 104,
     "metadata": {},
     "output_type": "execute_result"
    },
    {
     "data": {
      "image/png": "[encoded data removed]",
      "text/plain": [
       "<Figure size 432x288 with 1 Axes>"
      ]
     },
     "metadata": {
      "needs_background": "light"
     },
     "output_type": "display_data"
    }
   ],
   "source": [
    "df.plot(x='International Sales (in $)',y='World Sales (in $)',kind='scatter',xlabel='Imternational sales',ylabel='world sales' )"
   ]
  },
  {
   "cell_type": "code",
   "execution_count": 114,
   "id": "ce12d358",
   "metadata": {},
   "outputs": [
    {
     "data": {
      "text/plain": [
       "0      Walt Disney Studios Motion Pictures\n",
       "1      Walt Disney Studios Motion Pictures\n",
       "2                    Twentieth Century Fox\n",
       "3      Walt Disney Studios Motion Pictures\n",
       "4      Walt Disney Studios Motion Pictures\n",
       "                      ...                 \n",
       "913                        New Line Cinema\n",
       "914                     Paramount Pictures\n",
       "915      Sony Pictures Entertainment (SPE)\n",
       "916                        New Line Cinema\n",
       "917      Sony Pictures Entertainment (SPE)\n",
       "Name: Distributor, Length: 918, dtype: object"
      ]
     },
     "execution_count": 114,
     "metadata": {},
     "output_type": "execute_result"
    }
   ],
   "source": [
    "df['Distributor']"
   ]
  },
  {
   "cell_type": "code",
   "execution_count": 117,
   "id": "14a84d06",
   "metadata": {},
   "outputs": [
    {
     "data": {
      "image/png": "[encoded data removed]",
      "text/plain": [
       "<Figure size 432x288 with 1 Axes>"
      ]
     },
     "metadata": {
      "needs_background": "light"
     },
     "output_type": "display_data"
    }
   ],
   "source": [
    "#The number of times distributors have appeared in the top 100.\n",
    "Top_dist= df.head(100)\n",
    "T1 = Top_dist['Distributor'].value_counts()\n",
    "T1 = T1.reset_index()\n",
    "#shortform of long distributors  using replace\n",
    "T1.replace({'Walt Disney Studios Motion Pictures':'W_Disney',\n",
    "                   'Sony Pictures Entertainment (SPE)':'Sony_Pic',\n",
    "            'DreamWorks Distribution':'DreamWorks Dist'},inplace = True)\n",
    "sns.barplot(x=T1['index'],y=T1['Distributor'],data = T1)\n",
    "plt.xticks(rotation=90)\n",
    "plt.ylabel('Distributors_Counts')\n",
    "plt.xlabel('Distributors')\n",
    "plt.title('Top 100 distributors')\n",
    "plt.show()\n"
   ]
  },
  {
   "cell_type": "code",
   "execution_count": 126,
   "id": "ce349572",
   "metadata": {},
   "outputs": [
    {
     "data": {
      "image/png": "[encoded data removed]",
      "text/plain": [
       "<Figure size 432x288 with 1 Axes>"
      ]
     },
     "metadata": {
      "needs_background": "light"
     },
     "output_type": "display_data"
    }
   ],
   "source": [
    "#Extract particulat columna for visualisation\n",
    "new_df = df.drop(df.columns[[0,1,2,3,7,8,9]],axis = 1)\n",
    "\n",
    "sns.stripplot(data = new_df,jitter = 0.3,dodge = True)\n",
    "plt.xlabel(\"Sale Counts\")\n",
    "plt.ylabel(\"Collection\")\n",
    "plt.title('Frequency of Sales')\n",
    "plt.yticks([2000000000,1500000000,1000000000,500000000,250000000],\n",
    "           [\"2B\",'1.5B','1B','50M','25M'])\n",
    "plt.show()\n",
    "#INTERNATIONALS SALES are more coolection than Domestic sales\n",
    "# in international sales some uotliers are available"
   ]
  },
  {
   "cell_type": "code",
   "execution_count": 162,
   "id": "7c9cc427",
   "metadata": {},
   "outputs": [
    {
     "data": {
      "text/html": [
       "<div>\n",
       "<style scoped>\n",
       "    .dataframe tbody tr th:only-of-type {\n",
       "        vertical-align: middle;\n",
       "    }\n",
       "\n",
       "    .dataframe tbody tr th {\n",
       "        vertical-align: top;\n",
       "    }\n",
       "\n",
       "    .dataframe thead th {\n",
       "        text-align: right;\n",
       "    }\n",
       "</style>\n",
       "<table border=\"1\" class=\"dataframe\">\n",
       "  <thead>\n",
       "    <tr style=\"text-align: right;\">\n",
       "      <th></th>\n",
       "      <th>Unnamed: 0</th>\n",
       "      <th>Domestic Sales (in $)</th>\n",
       "      <th>International Sales (in $)</th>\n",
       "      <th>World Sales (in $)</th>\n",
       "    </tr>\n",
       "  </thead>\n",
       "  <tbody>\n",
       "    <tr>\n",
       "      <th>0</th>\n",
       "      <td>0</td>\n",
       "      <td>936662225</td>\n",
       "      <td>1132859475</td>\n",
       "      <td>2069521700</td>\n",
       "    </tr>\n",
       "    <tr>\n",
       "      <th>1</th>\n",
       "      <td>1</td>\n",
       "      <td>858373000</td>\n",
       "      <td>1939128328</td>\n",
       "      <td>2797501328</td>\n",
       "    </tr>\n",
       "    <tr>\n",
       "      <th>2</th>\n",
       "      <td>2</td>\n",
       "      <td>760507625</td>\n",
       "      <td>2086738578</td>\n",
       "      <td>2847246203</td>\n",
       "    </tr>\n",
       "    <tr>\n",
       "      <th>3</th>\n",
       "      <td>3</td>\n",
       "      <td>700426566</td>\n",
       "      <td>647171407</td>\n",
       "      <td>1347597973</td>\n",
       "    </tr>\n",
       "    <tr>\n",
       "      <th>4</th>\n",
       "      <td>4</td>\n",
       "      <td>678815482</td>\n",
       "      <td>1369544272</td>\n",
       "      <td>2048359754</td>\n",
       "    </tr>\n",
       "    <tr>\n",
       "      <th>...</th>\n",
       "      <td>...</td>\n",
       "      <td>...</td>\n",
       "      <td>...</td>\n",
       "      <td>...</td>\n",
       "    </tr>\n",
       "    <tr>\n",
       "      <th>913</th>\n",
       "      <td>913</td>\n",
       "      <td>81001787</td>\n",
       "      <td>36813370</td>\n",
       "      <td>117815157</td>\n",
       "    </tr>\n",
       "    <tr>\n",
       "      <th>914</th>\n",
       "      <td>914</td>\n",
       "      <td>80936232</td>\n",
       "      <td>22056304</td>\n",
       "      <td>102992536</td>\n",
       "    </tr>\n",
       "    <tr>\n",
       "      <th>915</th>\n",
       "      <td>915</td>\n",
       "      <td>80574010</td>\n",
       "      <td>124020006</td>\n",
       "      <td>204594016</td>\n",
       "    </tr>\n",
       "    <tr>\n",
       "      <th>916</th>\n",
       "      <td>916</td>\n",
       "      <td>80571655</td>\n",
       "      <td>26792250</td>\n",
       "      <td>107363905</td>\n",
       "    </tr>\n",
       "    <tr>\n",
       "      <th>917</th>\n",
       "      <td>917</td>\n",
       "      <td>80360843</td>\n",
       "      <td>89491916</td>\n",
       "      <td>169852759</td>\n",
       "    </tr>\n",
       "  </tbody>\n",
       "</table>\n",
       "<p>918 rows × 4 columns</p>\n",
       "</div>"
      ],
      "text/plain": [
       "     Unnamed: 0  Domestic Sales (in $)  International Sales (in $)  \\\n",
       "0             0              936662225                  1132859475   \n",
       "1             1              858373000                  1939128328   \n",
       "2             2              760507625                  2086738578   \n",
       "3             3              700426566                   647171407   \n",
       "4             4              678815482                  1369544272   \n",
       "..          ...                    ...                         ...   \n",
       "913         913               81001787                    36813370   \n",
       "914         914               80936232                    22056304   \n",
       "915         915               80574010                   124020006   \n",
       "916         916               80571655                    26792250   \n",
       "917         917               80360843                    89491916   \n",
       "\n",
       "     World Sales (in $)  \n",
       "0            2069521700  \n",
       "1            2797501328  \n",
       "2            2847246203  \n",
       "3            1347597973  \n",
       "4            2048359754  \n",
       "..                  ...  \n",
       "913           117815157  \n",
       "914           102992536  \n",
       "915           204594016  \n",
       "916           107363905  \n",
       "917           169852759  \n",
       "\n",
       "[918 rows x 4 columns]"
      ]
     },
     "execution_count": 162,
     "metadata": {},
     "output_type": "execute_result"
    }
   ],
   "source": [
    "# Select only column of numeric type\n",
    "df.select_dtypes('int') #it will select columns of int dtype"
   ]
  },
  {
   "cell_type": "code",
   "execution_count": 163,
   "id": "31ea82ed",
   "metadata": {},
   "outputs": [
    {
     "data": {
      "text/plain": [
       "<bound method DataFrame.info of      Unnamed: 0                                              Title  \\\n",
       "0             0  Star Wars: Episode VII - The Force Awakens (2015)   \n",
       "1             1                           Avengers: Endgame (2019)   \n",
       "2             2                                      Avatar (2009)   \n",
       "3             3                               Black Panther (2018)   \n",
       "4             4                      Avengers: Infinity War (2018)   \n",
       "..          ...                                                ...   \n",
       "913         913                                The Notebook (2004)   \n",
       "914         914                   Jimmy Neutron: Boy Genius (2001)   \n",
       "915         915                               Eat Pray Love (2010)   \n",
       "916         916                 The Texas Chainsaw Massacre (2003)   \n",
       "917         917                                   Zookeeper (2011)   \n",
       "\n",
       "                                            Movie Info  \\\n",
       "0    As a new threat to the galaxy rises, Rey, a de...   \n",
       "1    After the devastating events of Avengers: Infi...   \n",
       "2    A paraplegic Marine dispatched to the moon Pan...   \n",
       "3    T'Challa, heir to the hidden but advanced king...   \n",
       "4    The Avengers and their allies must be willing ...   \n",
       "..                                                 ...   \n",
       "913  A poor yet passionate young man falls in love ...   \n",
       "914  An eight-year-old boy genius and his friends m...   \n",
       "915  A married woman realizes how unhappy her marri...   \n",
       "916  After picking up a traumatized young hitchhike...   \n",
       "917  A group of zoo animals decide to break their c...   \n",
       "\n",
       "                           Distributor       Release Date  \\\n",
       "0                             W_Disney  December 16, 2015   \n",
       "1                             W_Disney     April 24, 2019   \n",
       "2                Twentieth Century Fox  December 16, 2009   \n",
       "3                             W_Disney                NaN   \n",
       "4                             W_Disney                NaN   \n",
       "..                                 ...                ...   \n",
       "913                    New Line Cinema      June 25, 2004   \n",
       "914                 Paramount Pictures  December 21, 2001   \n",
       "915  Sony Pictures Entertainment (SPE)    August 13, 2010   \n",
       "916                    New Line Cinema   October 17, 2003   \n",
       "917  Sony Pictures Entertainment (SPE)       July 6, 2011   \n",
       "\n",
       "     Domestic Sales (in $)  International Sales (in $)  World Sales (in $)  \\\n",
       "0                936662225                  1132859475          2069521700   \n",
       "1                858373000                  1939128328          2797501328   \n",
       "2                760507625                  2086738578          2847246203   \n",
       "3                700426566                   647171407          1347597973   \n",
       "4                678815482                  1369544272          2048359754   \n",
       "..                     ...                         ...                 ...   \n",
       "913               81001787                    36813370           117815157   \n",
       "914               80936232                    22056304           102992536   \n",
       "915               80574010                   124020006           204594016   \n",
       "916               80571655                    26792250           107363905   \n",
       "917               80360843                    89491916           169852759   \n",
       "\n",
       "                                                 Genre Movie Runtime License  \\\n",
       "0                    ['Action', 'Adventure', 'Sci-Fi']   2 hr 18 min   PG-13   \n",
       "1           ['Action', 'Adventure', 'Drama', 'Sci-Fi']    3 hr 1 min   PG-13   \n",
       "2         ['Action', 'Adventure', 'Fantasy', 'Sci-Fi']   2 hr 42 min   PG-13   \n",
       "3                    ['Action', 'Adventure', 'Sci-Fi']   2 hr 14 min     NaN   \n",
       "4                    ['Action', 'Adventure', 'Sci-Fi']   2 hr 29 min     NaN   \n",
       "..                                                 ...           ...     ...   \n",
       "913                               ['Drama', 'Romance']    2 hr 3 min   PG-13   \n",
       "914  ['Action', 'Adventure', 'Animation', 'Comedy',...   1 hr 22 min     NaN   \n",
       "915                  ['Biography', 'Drama', 'Romance']   2 hr 13 min   PG-13   \n",
       "916                                ['Crime', 'Horror']   1 hr 38 min       R   \n",
       "917         ['Comedy', 'Family', 'Fantasy', 'Romance']   1 hr 42 min      PG   \n",
       "\n",
       "    Release Year  \n",
       "0           2015  \n",
       "1           2019  \n",
       "2           2009  \n",
       "3           2018  \n",
       "4           2018  \n",
       "..           ...  \n",
       "913         2004  \n",
       "914         2001  \n",
       "915         2010  \n",
       "916         2003  \n",
       "917         2011  \n",
       "\n",
       "[918 rows x 12 columns]>"
      ]
     },
     "execution_count": 163,
     "metadata": {},
     "output_type": "execute_result"
    }
   ],
   "source": [
    "df.info"
   ]
  },
  {
   "cell_type": "code",
   "execution_count": 164,
   "id": "eebafeee",
   "metadata": {},
   "outputs": [
    {
     "data": {
      "text/html": [
       "<div>\n",
       "<style scoped>\n",
       "    .dataframe tbody tr th:only-of-type {\n",
       "        vertical-align: middle;\n",
       "    }\n",
       "\n",
       "    .dataframe tbody tr th {\n",
       "        vertical-align: top;\n",
       "    }\n",
       "\n",
       "    .dataframe thead th {\n",
       "        text-align: right;\n",
       "    }\n",
       "</style>\n",
       "<table border=\"1\" class=\"dataframe\">\n",
       "  <thead>\n",
       "    <tr style=\"text-align: right;\">\n",
       "      <th></th>\n",
       "      <th>Unnamed: 0</th>\n",
       "      <th>Domestic Sales (in $)</th>\n",
       "      <th>International Sales (in $)</th>\n",
       "      <th>World Sales (in $)</th>\n",
       "    </tr>\n",
       "  </thead>\n",
       "  <tbody>\n",
       "    <tr>\n",
       "      <th>0</th>\n",
       "      <td>0</td>\n",
       "      <td>936662225</td>\n",
       "      <td>1132859475</td>\n",
       "      <td>2069521700</td>\n",
       "    </tr>\n",
       "    <tr>\n",
       "      <th>1</th>\n",
       "      <td>1</td>\n",
       "      <td>858373000</td>\n",
       "      <td>1939128328</td>\n",
       "      <td>2797501328</td>\n",
       "    </tr>\n",
       "    <tr>\n",
       "      <th>2</th>\n",
       "      <td>2</td>\n",
       "      <td>760507625</td>\n",
       "      <td>2086738578</td>\n",
       "      <td>2847246203</td>\n",
       "    </tr>\n",
       "    <tr>\n",
       "      <th>3</th>\n",
       "      <td>3</td>\n",
       "      <td>700426566</td>\n",
       "      <td>647171407</td>\n",
       "      <td>1347597973</td>\n",
       "    </tr>\n",
       "    <tr>\n",
       "      <th>4</th>\n",
       "      <td>4</td>\n",
       "      <td>678815482</td>\n",
       "      <td>1369544272</td>\n",
       "      <td>2048359754</td>\n",
       "    </tr>\n",
       "    <tr>\n",
       "      <th>...</th>\n",
       "      <td>...</td>\n",
       "      <td>...</td>\n",
       "      <td>...</td>\n",
       "      <td>...</td>\n",
       "    </tr>\n",
       "    <tr>\n",
       "      <th>913</th>\n",
       "      <td>913</td>\n",
       "      <td>81001787</td>\n",
       "      <td>36813370</td>\n",
       "      <td>117815157</td>\n",
       "    </tr>\n",
       "    <tr>\n",
       "      <th>914</th>\n",
       "      <td>914</td>\n",
       "      <td>80936232</td>\n",
       "      <td>22056304</td>\n",
       "      <td>102992536</td>\n",
       "    </tr>\n",
       "    <tr>\n",
       "      <th>915</th>\n",
       "      <td>915</td>\n",
       "      <td>80574010</td>\n",
       "      <td>124020006</td>\n",
       "      <td>204594016</td>\n",
       "    </tr>\n",
       "    <tr>\n",
       "      <th>916</th>\n",
       "      <td>916</td>\n",
       "      <td>80571655</td>\n",
       "      <td>26792250</td>\n",
       "      <td>107363905</td>\n",
       "    </tr>\n",
       "    <tr>\n",
       "      <th>917</th>\n",
       "      <td>917</td>\n",
       "      <td>80360843</td>\n",
       "      <td>89491916</td>\n",
       "      <td>169852759</td>\n",
       "    </tr>\n",
       "  </tbody>\n",
       "</table>\n",
       "<p>918 rows × 4 columns</p>\n",
       "</div>"
      ],
      "text/plain": [
       "     Unnamed: 0  Domestic Sales (in $)  International Sales (in $)  \\\n",
       "0             0              936662225                  1132859475   \n",
       "1             1              858373000                  1939128328   \n",
       "2             2              760507625                  2086738578   \n",
       "3             3              700426566                   647171407   \n",
       "4             4              678815482                  1369544272   \n",
       "..          ...                    ...                         ...   \n",
       "913         913               81001787                    36813370   \n",
       "914         914               80936232                    22056304   \n",
       "915         915               80574010                   124020006   \n",
       "916         916               80571655                    26792250   \n",
       "917         917               80360843                    89491916   \n",
       "\n",
       "     World Sales (in $)  \n",
       "0            2069521700  \n",
       "1            2797501328  \n",
       "2            2847246203  \n",
       "3            1347597973  \n",
       "4            2048359754  \n",
       "..                  ...  \n",
       "913           117815157  \n",
       "914           102992536  \n",
       "915           204594016  \n",
       "916           107363905  \n",
       "917           169852759  \n",
       "\n",
       "[918 rows x 4 columns]"
      ]
     },
     "execution_count": 164,
     "metadata": {},
     "output_type": "execute_result"
    }
   ],
   "source": [
    "df._get_numeric_data()# it will give same output as check int data type of column"
   ]
  },
  {
   "cell_type": "code",
   "execution_count": 167,
   "id": "3b52884a",
   "metadata": {},
   "outputs": [
    {
     "data": {
      "text/plain": [
       "2014    46\n",
       "2013    44\n",
       "2010    42\n",
       "2011    38\n",
       "2018    38\n",
       "Name: Release Year, dtype: int64"
      ]
     },
     "execution_count": 167,
     "metadata": {},
     "output_type": "execute_result"
    }
   ],
   "source": [
    "# i want to check year wise releasing movies count\n",
    "df['Release Year'].value_counts().head()\n",
    "#in 2014 max flims are release i.e.46 and 2018 & 2011 min.i.e.38"
   ]
  },
  {
   "cell_type": "code",
   "execution_count": 170,
   "id": "825acedf",
   "metadata": {},
   "outputs": [
    {
     "data": {
      "text/plain": [
       "<AxesSubplot:ylabel='Release Year'>"
      ]
     },
     "execution_count": 170,
     "metadata": {},
     "output_type": "execute_result"
    },
    {
     "data": {
      "image/png": "[encoded data removed]",
      "text/plain": [
       "<Figure size 432x288 with 1 Axes>"
      ]
     },
     "metadata": {},
     "output_type": "display_data"
    }
   ],
   "source": [
    "df['Release Year'].value_counts().head().plot(kind='pie',autopct = '%.2f%%',explode=[0.2,0,0,0,0.2])"
   ]
  },
  {
   "cell_type": "code",
   "execution_count": 171,
   "id": "147b2ef9",
   "metadata": {},
   "outputs": [
    {
     "data": {
      "text/plain": [
       "<AxesSubplot:>"
      ]
     },
     "execution_count": 171,
     "metadata": {},
     "output_type": "execute_result"
    },
    {
     "data": {
      "image/png": "[encoded data removed]",
      "text/plain": [
       "<Figure size 1008x576 with 1 Axes>"
      ]
     },
     "metadata": {
      "needs_background": "light"
     },
     "output_type": "display_data"
    }
   ],
   "source": [
    "df.plot.box(figsize=(14,8))"
   ]
  },
  {
   "cell_type": "code",
   "execution_count": 172,
   "id": "8ef05101",
   "metadata": {},
   "outputs": [
    {
     "data": {
      "text/plain": [
       "<AxesSubplot:ylabel='Density'>"
      ]
     },
     "execution_count": 172,
     "metadata": {},
     "output_type": "execute_result"
    },
    {
     "data": {
      "image/png": "[encoded data removed]",
      "text/plain": [
       "<Figure size 432x288 with 1 Axes>"
      ]
     },
     "metadata": {
      "needs_background": "light"
     },
     "output_type": "display_data"
    }
   ],
   "source": [
    "#world sale is high rangeand includes lot of outliers \n",
    "df.plot.kde()"
   ]
  },
  {
   "cell_type": "code",
   "execution_count": 175,
   "id": "502098dc",
   "metadata": {},
   "outputs": [
    {
     "data": {
      "text/plain": [
       "<AxesSubplot:ylabel='Density'>"
      ]
     },
     "execution_count": 175,
     "metadata": {},
     "output_type": "execute_result"
    },
    {
     "data": {
      "image/png": "[encoded data removed]",
      "text/plain": [
       "<Figure size 432x288 with 1 Axes>"
      ]
     },
     "metadata": {
      "needs_background": "light"
     },
     "output_type": "display_data"
    }
   ],
   "source": [
    "df['World Sales (in $)'].plot(kind='kde')"
   ]
  },
  {
   "cell_type": "code",
   "execution_count": 176,
   "id": "11e24ca7",
   "metadata": {},
   "outputs": [
    {
     "data": {
      "text/plain": [
       "<AxesSubplot:ylabel='Density'>"
      ]
     },
     "execution_count": 176,
     "metadata": {},
     "output_type": "execute_result"
    },
    {
     "data": {
      "image/png": "[encoded data removed]",
      "text/plain": [
       "<Figure size 432x288 with 1 Axes>"
      ]
     },
     "metadata": {
      "needs_background": "light"
     },
     "output_type": "display_data"
    }
   ],
   "source": [
    "df['Domestic Sales (in $)'].plot(kind='kde')"
   ]
  },
  {
   "cell_type": "code",
   "execution_count": 177,
   "id": "d1dab9bb",
   "metadata": {},
   "outputs": [
    {
     "data": {
      "text/plain": [
       "<seaborn.axisgrid.FacetGrid at 0x1769ec76550>"
      ]
     },
     "execution_count": 177,
     "metadata": {},
     "output_type": "execute_result"
    },
    {
     "data": {
      "image/png": "[encoded data removed]",
      "text/plain": [
       "<Figure size 519.375x360 with 1 Axes>"
      ]
     },
     "metadata": {
      "needs_background": "light"
     },
     "output_type": "display_data"
    }
   ],
   "source": [
    "sns.displot(data=df,palette='inferno_r')"
   ]
  },
  {
   "cell_type": "code",
   "execution_count": 180,
   "id": "235cfb45",
   "metadata": {},
   "outputs": [
    {
     "data": {
      "text/plain": [
       "Index(['Unnamed: 0', 'Title', 'Movie Info', 'Distributor', 'Release Date',\n",
       "       'Domestic Sales (in $)', 'International Sales (in $)',\n",
       "       'World Sales (in $)', 'Genre', 'Movie Runtime', 'License',\n",
       "       'Release Year'],\n",
       "      dtype='object')"
      ]
     },
     "execution_count": 180,
     "metadata": {},
     "output_type": "execute_result"
    }
   ],
   "source": [
    "df.columns"
   ]
  },
  {
   "cell_type": "code",
   "execution_count": 183,
   "id": "f3feda00",
   "metadata": {},
   "outputs": [],
   "source": [
    "#sns.jointplot(x='Domestic Sales (in $)',y='International Sales (in $)',data=df,hue='Release Date',palette='rainbow')"
   ]
  },
  {
   "cell_type": "code",
   "execution_count": null,
   "id": "7e761990",
   "metadata": {},
   "outputs": [],
   "source": []
  }
 ],
 "metadata": {
  "kernelspec": {
   "display_name": "Python 3 (ipykernel)",
   "language": "python",
   "name": "python3"
  },
  "language_info": {
   "codemirror_mode": {
    "name": "ipython",
    "version": 3
   },
   "file_extension": ".py",
   "mimetype": "text/x-python",
   "name": "python",
   "nbconvert_exporter": "python",
   "pygments_lexer": "ipython3",
   "version": "3.9.7"
  }
 },
 "nbformat": 4,
 "nbformat_minor": 5
}
